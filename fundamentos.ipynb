{
 "cells": [
  {
   "cell_type": "code",
   "execution_count": 1,
   "metadata": {},
   "outputs": [
    {
     "name": "stdout",
     "output_type": "stream",
     "text": [
      "hola\n"
     ]
    }
   ],
   "source": [
    "print (\"hola\") "
   ]
  },
  {
   "cell_type": "markdown",
   "metadata": {},
   "source": [
    "#### Fundamentos de python\n",
    "\n",
    " * Variables\n",
    "  * Operadores matematicos\n",
    "  * Operadores logicos \n",
    "  * Operadores de comparacion\n",
    "  * Estructuras de control\n",
    "     - Condicionales simples\n",
    "     - Condicionales anidados\n",
    "     - condicionales encadenados\n",
    "     - Ciclos Infinitos\n",
    "     - Ciclos finitos\n",
    "  * Funciones\n",
    "  * Estructura de datos\n",
    "    - Cadenas de caracteres\n",
    "    - Listas\n",
    "    - Tuplas\n",
    "    - Diccionarios     \n",
    "    "
   ]
  },
  {
   "cell_type": "markdown",
   "metadata": {},
   "source": [
    "### Variables"
   ]
  },
  {
   "cell_type": "code",
   "execution_count": 7,
   "metadata": {},
   "outputs": [
    {
     "data": {
      "text/plain": [
       "'Luis'"
      ]
     },
     "execution_count": 7,
     "metadata": {},
     "output_type": "execute_result"
    }
   ],
   "source": [
    "name = \"Luis\"\n",
    "name"
   ]
  },
  {
   "cell_type": "code",
   "execution_count": 8,
   "metadata": {},
   "outputs": [
    {
     "data": {
      "text/plain": [
       "'Rondon'"
      ]
     },
     "execution_count": 8,
     "metadata": {},
     "output_type": "execute_result"
    }
   ],
   "source": [
    "lastname = \"Rondon\"\n",
    "lastname"
   ]
  },
  {
   "cell_type": "code",
   "execution_count": 16,
   "metadata": {},
   "outputs": [
    {
     "data": {
      "text/plain": [
       "'Rondon'"
      ]
     },
     "execution_count": 16,
     "metadata": {},
     "output_type": "execute_result"
    }
   ],
   "source": [
    "last_name = \"Rondon\" \n",
    "last_name"
   ]
  },
  {
   "cell_type": "code",
   "execution_count": 12,
   "metadata": {},
   "outputs": [
    {
     "ename": "SyntaxError",
     "evalue": "cannot assign to expression here. Maybe you meant '==' instead of '='? (1316345620.py, line 1)",
     "output_type": "error",
     "traceback": [
      "\u001b[1;36m  Cell \u001b[1;32mIn[12], line 1\u001b[1;36m\u001b[0m\n\u001b[1;33m    last-name = \"Rondon\"\u001b[0m\n\u001b[1;37m    ^\u001b[0m\n\u001b[1;31mSyntaxError\u001b[0m\u001b[1;31m:\u001b[0m cannot assign to expression here. Maybe you meant '==' instead of '='?\n"
     ]
    }
   ],
   "source": [
    "last-name = \"Rondon\""
   ]
  },
  {
   "cell_type": "code",
   "execution_count": 13,
   "metadata": {},
   "outputs": [
    {
     "ename": "NameError",
     "evalue": "name 'last' is not defined",
     "output_type": "error",
     "traceback": [
      "\u001b[1;31m---------------------------------------------------------------------------\u001b[0m",
      "\u001b[1;31mNameError\u001b[0m                                 Traceback (most recent call last)",
      "Cell \u001b[1;32mIn[13], line 1\u001b[0m\n\u001b[1;32m----> 1\u001b[0m \u001b[43mlast\u001b[49m\u001b[38;5;241m.\u001b[39mname \u001b[38;5;241m=\u001b[39m \u001b[38;5;124m\"\u001b[39m\u001b[38;5;124mRondon\u001b[39m\u001b[38;5;124m\"\u001b[39m\n",
      "\u001b[1;31mNameError\u001b[0m: name 'last' is not defined"
     ]
    }
   ],
   "source": [
    "last.name = \"Rondon\""
   ]
  },
  {
   "cell_type": "code",
   "execution_count": 20,
   "metadata": {},
   "outputs": [],
   "source": [
    "LastName = \"Rondon1\""
   ]
  },
  {
   "cell_type": "code",
   "execution_count": 21,
   "metadata": {},
   "outputs": [
    {
     "data": {
      "text/plain": [
       "'Rondon1'"
      ]
     },
     "execution_count": 21,
     "metadata": {},
     "output_type": "execute_result"
    }
   ],
   "source": [
    "last_name\n",
    "LastName"
   ]
  },
  {
   "cell_type": "code",
   "execution_count": 23,
   "metadata": {},
   "outputs": [
    {
     "data": {
      "text/plain": [
       "230"
      ]
     },
     "execution_count": 23,
     "metadata": {},
     "output_type": "execute_result"
    }
   ],
   "source": [
    "qwert = 23\n",
    "asdfg = 10\n",
    "zxcvb = qwert * asdfg\n",
    "\n",
    "zxcvb\n"
   ]
  },
  {
   "cell_type": "code",
   "execution_count": 24,
   "metadata": {},
   "outputs": [
    {
     "data": {
      "text/plain": [
       "230"
      ]
     },
     "execution_count": 24,
     "metadata": {},
     "output_type": "execute_result"
    }
   ],
   "source": [
    "base = 23\n",
    "height = 10\n",
    "\n",
    "area = base * height\n",
    "area"
   ]
  },
  {
   "cell_type": "code",
   "execution_count": 31,
   "metadata": {},
   "outputs": [
    {
     "name": "stdout",
     "output_type": "stream",
     "text": [
      "area: 230\n",
      "Apellido: Rondon\n",
      "Base del triangulo 23\n"
     ]
    }
   ],
   "source": [
    "print(\"area:\", area)\n",
    "print(\"Apellido:\", last_name)\n",
    "print(\"Base del triangulo\", base)"
   ]
  },
  {
   "cell_type": "markdown",
   "metadata": {},
   "source": [
    "### Operadores matematicos basicos "
   ]
  },
  {
   "cell_type": "code",
   "execution_count": 37,
   "metadata": {},
   "outputs": [
    {
     "name": "stdout",
     "output_type": "stream",
     "text": [
      "El resultado de la suma es: 30\n"
     ]
    }
   ],
   "source": [
    "# Suma\n",
    "\n",
    "number_1 = 10\n",
    "number_2 = 20\n",
    "result = number_1 + number_2\n",
    "\n",
    "print(\"El resultado de la suma es:\", result)"
   ]
  },
  {
   "cell_type": "code",
   "execution_count": 36,
   "metadata": {},
   "outputs": [
    {
     "name": "stdout",
     "output_type": "stream",
     "text": [
      "El resultado de la resta es: -10\n"
     ]
    }
   ],
   "source": [
    "# Resta\n",
    "\n",
    "number_1 = 10\n",
    "number_2 = 20\n",
    "result = number_1 - number_2\n",
    "\n",
    "print(\"El resultado de la resta es:\", result)"
   ]
  },
  {
   "cell_type": "code",
   "execution_count": 38,
   "metadata": {},
   "outputs": [
    {
     "name": "stdout",
     "output_type": "stream",
     "text": [
      "El resultado de la multiplicacion es: 200\n"
     ]
    }
   ],
   "source": [
    "# Multiplicacion\n",
    "\n",
    "number_1 = 10\n",
    "number_2 = 20\n",
    "result = number_1 * number_2\n",
    "\n",
    "print(\"El resultado de la multiplicacion es:\", result)"
   ]
  },
  {
   "cell_type": "code",
   "execution_count": 39,
   "metadata": {},
   "outputs": [
    {
     "name": "stdout",
     "output_type": "stream",
     "text": [
      "El resultado de la division es: 0.5\n"
     ]
    }
   ],
   "source": [
    "# Division\n",
    "\n",
    "number_1 = 10\n",
    "number_2 = 20\n",
    "result = number_1 / number_2\n",
    "\n",
    "print(\"El resultado de la division es:\", result)"
   ]
  },
  {
   "cell_type": "code",
   "execution_count": 40,
   "metadata": {},
   "outputs": [
    {
     "data": {
      "text/plain": [
       "str"
      ]
     },
     "execution_count": 40,
     "metadata": {},
     "output_type": "execute_result"
    }
   ],
   "source": [
    "type(last_name)"
   ]
  },
  {
   "cell_type": "code",
   "execution_count": 41,
   "metadata": {},
   "outputs": [
    {
     "data": {
      "text/plain": [
       "int"
      ]
     },
     "execution_count": 41,
     "metadata": {},
     "output_type": "execute_result"
    }
   ],
   "source": [
    "type(number_1)"
   ]
  },
  {
   "cell_type": "code",
   "execution_count": 42,
   "metadata": {},
   "outputs": [
    {
     "data": {
      "text/plain": [
       "float"
      ]
     },
     "execution_count": 42,
     "metadata": {},
     "output_type": "execute_result"
    }
   ],
   "source": [
    "type(result)"
   ]
  },
  {
   "cell_type": "code",
   "execution_count": 43,
   "metadata": {},
   "outputs": [
    {
     "name": "stdout",
     "output_type": "stream",
     "text": [
      "<class 'str'>\n",
      "<class 'int'>\n",
      "<class 'float'>\n"
     ]
    }
   ],
   "source": [
    "print( type (last_name) )\n",
    "print( type(number_1) )\n",
    "print( type (result) )\n"
   ]
  },
  {
   "cell_type": "markdown",
   "metadata": {},
   "source": [
    "### Estructuras de Control"
   ]
  },
  {
   "cell_type": "code",
   "execution_count": 1,
   "metadata": {},
   "outputs": [],
   "source": [
    "name1 = \"pablo\"\n",
    "age = 16 \n"
   ]
  },
  {
   "cell_type": "code",
   "execution_count": null,
   "metadata": {},
   "outputs": [],
   "source": [
    "# if condicion:\n",
    "#  print (\"saludos\")"
   ]
  },
  {
   "cell_type": "code",
   "execution_count": 3,
   "metadata": {},
   "outputs": [
    {
     "name": "stdout",
     "output_type": "stream",
     "text": [
      "Puedes pasar\n"
     ]
    }
   ],
   "source": [
    "#  condicional simple \n",
    "if (age > 15):\n",
    "    print(\"Puedes pasar\")"
   ]
  },
  {
   "cell_type": "code",
   "execution_count": null,
   "metadata": {},
   "outputs": [],
   "source": [
    "# Operadores de comparacion\n",
    "# mayor que >\n",
    "# menor que <\n",
    "# mayor igual >-\n",
    "# menor igual <-\n",
    "# igual ==\n",
    "# diferente !=\n",
    " "
   ]
  },
  {
   "cell_type": "code",
   "execution_count": 13,
   "metadata": {},
   "outputs": [
    {
     "name": "stdout",
     "output_type": "stream",
     "text": [
      "Puedes pasar Luis\n"
     ]
    }
   ],
   "source": [
    "#  condicional simple \n",
    "name1 = input (\"ingrese su nombre: \")\n",
    "age = input (\"ingrese su edad: \")\n",
    "# age = int(age)\n",
    "age = float(age)\n",
    "\n",
    "if (age > 15):\n",
    "    print(\"Puedes pasar\", name1)"
   ]
  },
  {
   "cell_type": "code",
   "execution_count": 14,
   "metadata": {},
   "outputs": [
    {
     "data": {
      "text/plain": [
       "float"
      ]
     },
     "execution_count": 14,
     "metadata": {},
     "output_type": "execute_result"
    }
   ],
   "source": [
    "type(name1)\n",
    "type(age)\n",
    "type(age)\n"
   ]
  },
  {
   "cell_type": "code",
   "execution_count": 15,
   "metadata": {},
   "outputs": [
    {
     "data": {
      "text/plain": [
       "23.0"
      ]
     },
     "execution_count": 15,
     "metadata": {},
     "output_type": "execute_result"
    }
   ],
   "source": [
    "age"
   ]
  },
  {
   "cell_type": "code",
   "execution_count": null,
   "metadata": {},
   "outputs": [],
   "source": [
    "# Operadores Logicos \n",
    "# and\n",
    "# or\n",
    "# not"
   ]
  },
  {
   "cell_type": "code",
   "execution_count": 25,
   "metadata": {},
   "outputs": [
    {
     "name": "stdout",
     "output_type": "stream",
     "text": [
      "Puedes pasar Luis\n"
     ]
    }
   ],
   "source": [
    "#  condicional simple \n",
    "name1 = input (\"ingrese su nombre: \")\n",
    "age = int (input (\"ingrese su edad: \"))\n",
    "day = input(\"Ingrese el dia de la semana: \")\n",
    "# age = int(age)\n",
    "\n",
    "\n",
    "if (age > 15) and (day == \"Sabado\"):\n",
    "     print(\"Puedes pasar\", name1)"
   ]
  },
  {
   "cell_type": "code",
   "execution_count": 27,
   "metadata": {},
   "outputs": [
    {
     "name": "stdout",
     "output_type": "stream",
     "text": [
      "Puedes pasar Luis\n"
     ]
    }
   ],
   "source": [
    "#  condicional simple \n",
    "name1 = input (\"ingrese su nombre: \")\n",
    "age = int (input (\"ingrese su edad: \"))\n",
    "day = input(\"Ingrese el dia de la semana: \")\n",
    "# age = int(age)\n",
    "\n",
    "\n",
    "if (age > 15) and (day == \"Sabado\" or day == \"Viernes\"):\n",
    "     print(\"Puedes pasar\", name1)"
   ]
  },
  {
   "cell_type": "code",
   "execution_count": 28,
   "metadata": {},
   "outputs": [
    {
     "name": "stdout",
     "output_type": "stream",
     "text": [
      "Puedes pasar Luis\n"
     ]
    }
   ],
   "source": [
    "#  condicional simple \n",
    "name1 = input (\"ingrese su nombre: \")\n",
    "age = int (input (\"ingrese su edad: \"))\n",
    "day = input(\"Ingrese el dia de la semana: \")\n",
    "# age = int(age)\n",
    "\n",
    "\n",
    "if (age > 15):\n",
    "    if (day == \"Sabado\") or (day == \"Viernes\"):\n",
    "        print(\"Puedes pasar\", name1)"
   ]
  },
  {
   "cell_type": "code",
   "execution_count": 29,
   "metadata": {},
   "outputs": [
    {
     "name": "stdout",
     "output_type": "stream",
     "text": [
      "Fuera de aqui Luis \n"
     ]
    }
   ],
   "source": [
    "#  condicional simple \n",
    "name1 = input (\"ingrese su nombre: \")\n",
    "age = int (input (\"ingrese su edad: \"))\n",
    "day = input(\"Ingrese el dia de la semana: \")\n",
    "# age = int(age)\n",
    "\n",
    "\n",
    "if (age > 15):\n",
    "    print(\"No puedes pasar\", name1)\n",
    "else:\n",
    "    print(\"Fuera de aqui\", name1)\n",
    "\n",
    "    # if (day == \"Sabado\") or (day == \"Viernes\"):\n",
    "    #     print(\"No puedes pasar\", name1)"
   ]
  },
  {
   "cell_type": "code",
   "execution_count": 33,
   "metadata": {},
   "outputs": [
    {
     "name": "stdout",
     "output_type": "stream",
     "text": [
      "No es sabado ni Viernes\n"
     ]
    }
   ],
   "source": [
    "#  condicional simple \n",
    "name1 = input (\"ingrese su nombre: \")\n",
    "age = int (input (\"ingrese su edad: \"))\n",
    "# age = int(age)\n",
    "\n",
    "\n",
    "if (age > 15):\n",
    "     day = input(\"Ingrese el dia de la semana: \")\n",
    "\n",
    "     if (day == \"Sabado\") or (day == \"Viernes\"):\n",
    "         print(\"Puedes pasar\", name1)\n",
    "     else:\n",
    "          print(\"No es sabado ni Viernes\")\n",
    "else:\n",
    "     print(\"menor de 15\")"
   ]
  },
  {
   "cell_type": "markdown",
   "metadata": {},
   "source": [
    "#### Condicionales Encadenados"
   ]
  },
  {
   "cell_type": "code",
   "execution_count": 39,
   "metadata": {},
   "outputs": [
    {
     "name": "stdout",
     "output_type": "stream",
     "text": [
      "Voy al padel\n"
     ]
    }
   ],
   "source": [
    "#  condicional simple \n",
    "\n",
    "# name1 = input (\"ingrese su nombre: \")\n",
    "\n",
    "day = input(\"Ingrese el dia de la semana: \")\n",
    "\n",
    "# age = int (input (\"ingrese su edad: \"))\n",
    "\n",
    "# age = int(age)\n",
    "\n",
    "if day == \"lunes\":\n",
    "        print(\"Voy al cine\")\n",
    "\n",
    "elif day == \"martes\":\n",
    "       print(\"Voy al gym\")\n",
    "\n",
    "elif day == \"miercoles\":\n",
    "        print(\"Voy al mercado\")\n",
    "\n",
    "elif day == \"jueves\":\n",
    "        print(\"Voy al padel\")\n",
    "\n",
    "elif day == \"viernes\":\n",
    "        print(\"Voy a la disco\")\n",
    "else:\n",
    "        print(\"Fin de semana\")\n",
    "\n"
   ]
  },
  {
   "cell_type": "markdown",
   "metadata": {},
   "source": [
    "#### Ciclos Finitos -> for "
   ]
  },
  {
   "cell_type": "code",
   "execution_count": null,
   "metadata": {},
   "outputs": [],
   "source": []
  }
 ],
 "metadata": {
  "kernelspec": {
   "display_name": "Python 3",
   "language": "python",
   "name": "python3"
  },
  "language_info": {
   "codemirror_mode": {
    "name": "ipython",
    "version": 3
   },
   "file_extension": ".py",
   "mimetype": "text/x-python",
   "name": "python",
   "nbconvert_exporter": "python",
   "pygments_lexer": "ipython3",
   "version": "3.12.4"
  }
 },
 "nbformat": 4,
 "nbformat_minor": 2
}
